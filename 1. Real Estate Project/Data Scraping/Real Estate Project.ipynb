{
 "cells": [
  {
   "cell_type": "markdown",
   "metadata": {},
   "source": [
    "### Imports"
   ]
  },
  {
   "cell_type": "code",
   "execution_count": 1,
   "metadata": {},
   "outputs": [],
   "source": [
    "from bs4 import BeautifulSoup\n",
    "import requests\n",
    "import pandas as pd\n",
    "import urllib.parse"
   ]
  },
  {
   "cell_type": "markdown",
   "metadata": {},
   "source": [
    "### HTTP Request"
   ]
  },
  {
   "cell_type": "markdown",
   "metadata": {},
   "source": [
    "#### store website in variable"
   ]
  },
  {
   "cell_type": "code",
   "execution_count": 2,
   "metadata": {},
   "outputs": [],
   "source": [
    "website = \"https://www.trulia.com/CA/San_Diego/\""
   ]
  },
  {
   "cell_type": "markdown",
   "metadata": {},
   "source": [
    "#### Get Request"
   ]
  },
  {
   "cell_type": "code",
   "execution_count": 3,
   "metadata": {},
   "outputs": [],
   "source": [
    "response = requests.get(website)"
   ]
  },
  {
   "cell_type": "markdown",
   "metadata": {},
   "source": [
    "#### Status Code"
   ]
  },
  {
   "cell_type": "code",
   "execution_count": 4,
   "metadata": {},
   "outputs": [
    {
     "data": {
      "text/plain": [
       "200"
      ]
     },
     "execution_count": 4,
     "metadata": {},
     "output_type": "execute_result"
    }
   ],
   "source": [
    "response.status_code"
   ]
  },
  {
   "cell_type": "markdown",
   "metadata": {},
   "source": [
    "### Soup Object"
   ]
  },
  {
   "cell_type": "code",
   "execution_count": 5,
   "metadata": {},
   "outputs": [],
   "source": [
    "soup = BeautifulSoup(response.content,'html.parser')"
   ]
  },
  {
   "cell_type": "markdown",
   "metadata": {},
   "source": [
    "### Results"
   ]
  },
  {
   "cell_type": "code",
   "execution_count": 6,
   "metadata": {},
   "outputs": [
    {
     "data": {
      "text/plain": [
       "42"
      ]
     },
     "execution_count": 6,
     "metadata": {},
     "output_type": "execute_result"
    }
   ],
   "source": [
    "results = soup.find_all('li', {'class':'SearchResultsList__WideCell-b7y9ki-2'})\n",
    "len(results)"
   ]
  },
  {
   "cell_type": "code",
   "execution_count": null,
   "metadata": {},
   "outputs": [],
   "source": []
  },
  {
   "cell_type": "markdown",
   "metadata": {},
   "source": [
    "### Update Result"
   ]
  },
  {
   "cell_type": "markdown",
   "metadata": {},
   "source": [
    "we just want to target the elements which have the attribute 'data-testid'"
   ]
  },
  {
   "cell_type": "code",
   "execution_count": 7,
   "metadata": {},
   "outputs": [],
   "source": [
    "results_update=[]"
   ]
  },
  {
   "cell_type": "code",
   "execution_count": 8,
   "metadata": {},
   "outputs": [],
   "source": [
    "for r in results:\n",
    "    if r.has_attr('data-testid'):\n",
    "        results_update.append(r)"
   ]
  },
  {
   "cell_type": "code",
   "execution_count": 9,
   "metadata": {},
   "outputs": [
    {
     "data": {
      "text/plain": [
       "40"
      ]
     },
     "execution_count": 9,
     "metadata": {},
     "output_type": "execute_result"
    }
   ],
   "source": [
    "len(results_update)"
   ]
  },
  {
   "cell_type": "markdown",
   "metadata": {},
   "source": [
    "### Concate 2 URL Parts to get absolute URL"
   ]
  },
  {
   "cell_type": "code",
   "execution_count": 14,
   "metadata": {},
   "outputs": [],
   "source": [
    "# we combine url part 1 with part 2 in order to get absolute url\n",
    "\n",
    "url_part_1 = 'https://www.trulia.com'"
   ]
  },
  {
   "cell_type": "code",
   "execution_count": 15,
   "metadata": {},
   "outputs": [],
   "source": [
    "url_part_2 = []\n",
    "\n",
    "for item in results_update:\n",
    "    \n",
    "    for link in item.find_all('div',{'data-testid':'property-card-details'}):\n",
    "        url_part_2.append(link.find('a').get('href'))"
   ]
  },
  {
   "cell_type": "code",
   "execution_count": 17,
   "metadata": {},
   "outputs": [],
   "source": [
    "# Joining both Urls\n",
    "\n",
    "url_joined = []\n",
    "\n",
    "for link_2 in url_part_2:\n",
    "    url_joined.append(urllib.parse.urljoin(url_part_1, link_2))"
   ]
  },
  {
   "cell_type": "code",
   "execution_count": 18,
   "metadata": {},
   "outputs": [
    {
     "data": {
      "text/plain": [
       "['https://www.trulia.com/p/ca/san-diego/3838-martha-st-san-diego-ca-92117--1063392591',\n",
       " 'https://www.trulia.com/p/ca/san-diego/7055-lisbon-st-san-diego-ca-92114--1010003527',\n",
       " 'https://www.trulia.com/p/ca/san-diego/1858-ridge-view-dr-san-diego-ca-92105--1061703729',\n",
       " 'https://www.trulia.com/p/ca/la-jolla/308-vista-de-la-playa-la-jolla-ca-92037--2079474424',\n",
       " 'https://www.trulia.com/p/ca/la-jolla/5850-camino-de-la-costa-la-jolla-ca-92037--2079478670',\n",
       " 'https://www.trulia.com/p/ca/san-diego/851-euclid-ave-san-diego-ca-92114--2079824167',\n",
       " 'https://www.trulia.com/p/ca/san-diego/10925-polaris-dr-san-diego-ca-92126--2079929837',\n",
       " 'https://www.trulia.com/p/ca/san-diego/5404-chollas-station-rd-san-diego-ca-92105--2079730536',\n",
       " 'https://www.trulia.com/p/ca/san-diego/3500-jewell-st-san-diego-ca-92109--2079764388',\n",
       " 'https://www.trulia.com/p/ca/san-diego/4104-mount-alifan-pl-d-san-diego-ca-92111--2079790538',\n",
       " 'https://www.trulia.com/p/ca/san-diego/6656-reservoir-ln-san-diego-ca-92115--1064638168',\n",
       " 'https://www.trulia.com/p/ca/san-diego/910-kelton-rd-san-diego-ca-92114--2079824595',\n",
       " 'https://www.trulia.com/p/ca/la-jolla/8804-robin-hood-ln-la-jolla-ca-92037--2079486664',\n",
       " 'https://www.trulia.com/p/ca/san-diego/3964-lago-di-grata-cir-san-diego-ca-92130--1063448382',\n",
       " 'https://www.trulia.com/p/ca/san-diego/3215-44th-st-1-san-diego-ca-92105--2079720319',\n",
       " 'https://www.trulia.com/p/ca/san-diego/2077-ebers-st-san-diego-ca-92107--2079739636',\n",
       " 'https://www.trulia.com/p/ca/san-diego/5340-limerick-ave-san-diego-ca-92117--2079865580',\n",
       " 'https://www.trulia.com/p/ca/del-mar/2940-avocado-point-del-mar-ca-92014--2411109945',\n",
       " 'https://www.trulia.com/p/ca/san-diego/7369-calle-cristobal-206-san-diego-ca-92126--2079934788',\n",
       " 'https://www.trulia.com/p/ca/san-diego/11150-socorro-ct-san-diego-ca-92129--2079976249',\n",
       " 'https://www.trulia.com/p/ca/san-diego/8739-hillery-dr-san-diego-ca-92126--1004673512',\n",
       " 'https://www.trulia.com/p/ca/san-diego/6410-stanley-ave-san-diego-ca-92115--2079837694',\n",
       " 'https://www.trulia.com/p/ca/san-diego/6202-estrella-ave-san-diego-ca-92120--2079887685',\n",
       " 'https://www.trulia.com/p/ca/san-diego/10977-la-alberca-ave-san-diego-ca-92127--1001872205',\n",
       " 'https://www.trulia.com/p/ca/san-diego/855-golden-park-ave-san-diego-ca-92106--2079737716',\n",
       " 'https://www.trulia.com/p/ca/san-diego/6215-streamview-dr-san-diego-ca-92115--2079837066',\n",
       " 'https://www.trulia.com/p/ca/san-diego/2925-47th-st-san-diego-ca-92105--2079719353',\n",
       " 'https://www.trulia.com/p/ca/la-jolla/2684-costebelle-dr-la-jolla-ca-92037--2079474022',\n",
       " 'https://www.trulia.com/p/ca/san-diego/827-missouri-st-san-diego-ca-92109--1014245120',\n",
       " 'https://www.trulia.com/p/ca/san-diego/3539-elliott-st-san-diego-ca-92106--2079735989',\n",
       " 'https://www.trulia.com/p/ca/san-diego/14453-corte-lampara-san-diego-ca-92129--2079983483',\n",
       " 'https://www.trulia.com/p/ca/san-diego/1652-oro-vista-rd-255-san-diego-ca-92154--2080031909',\n",
       " 'https://www.trulia.com/p/ca/san-diego/5170-clairemont-mesa-blvd-51-18-san-diego-ca-92117--2504280231',\n",
       " 'https://www.trulia.com/p/ca/san-diego/1546-beryl-st-san-diego-ca-92109--2079758559',\n",
       " 'https://www.trulia.com/p/ca/san-diego/6827-glenroy-st-san-diego-ca-92120--2079890791',\n",
       " 'https://www.trulia.com/p/ca/san-diego/11480-cypress-woods-dr-san-diego-ca-92131--2080013377',\n",
       " 'https://www.trulia.com/p/ca/san-diego/2137-san-clemente-st-san-diego-ca-92107--2079739796',\n",
       " 'https://www.trulia.com/p/ca/la-jolla/2610-torrey-pines-rd-c21-la-jolla-ca-92037--2079473872',\n",
       " 'https://www.trulia.com/p/ca/san-diego/138-s-royal-oak-dr-san-diego-ca-92114--2116275133',\n",
       " 'https://www.trulia.com/p/ca/san-diego/6198-agee-st-69-san-diego-ca-92122--2079904431']"
      ]
     },
     "execution_count": 18,
     "metadata": {},
     "output_type": "execute_result"
    }
   ],
   "source": [
    "url_joined"
   ]
  },
  {
   "cell_type": "markdown",
   "metadata": {},
   "source": [
    "### Get Data From First Link"
   ]
  },
  {
   "cell_type": "markdown",
   "metadata": {},
   "source": [
    "#### Store first link in variable"
   ]
  },
  {
   "cell_type": "code",
   "execution_count": 20,
   "metadata": {},
   "outputs": [],
   "source": [
    "first_link = url_joined[0]"
   ]
  },
  {
   "cell_type": "markdown",
   "metadata": {},
   "source": [
    "#### Get Request & Soup Object"
   ]
  },
  {
   "cell_type": "code",
   "execution_count": 22,
   "metadata": {},
   "outputs": [
    {
     "data": {
      "text/plain": [
       "<Response [200]>"
      ]
     },
     "execution_count": 22,
     "metadata": {},
     "output_type": "execute_result"
    }
   ],
   "source": [
    "response = requests.get(first_link)\n",
    "response"
   ]
  },
  {
   "cell_type": "code",
   "execution_count": 23,
   "metadata": {},
   "outputs": [],
   "source": [
    "soup= BeautifulSoup(response.content, 'html.parser')"
   ]
  },
  {
   "cell_type": "markdown",
   "metadata": {},
   "source": [
    "### Target Necessary Data"
   ]
  },
  {
   "cell_type": "markdown",
   "metadata": {},
   "source": [
    "Address"
   ]
  },
  {
   "cell_type": "code",
   "execution_count": 25,
   "metadata": {},
   "outputs": [
    {
     "data": {
      "text/plain": [
       "'3838 Martha St'"
      ]
     },
     "execution_count": 25,
     "metadata": {},
     "output_type": "execute_result"
    }
   ],
   "source": [
    "soup.find('span',{'data-testid':'home-details-summary-headline'}).get_text()"
   ]
  },
  {
   "cell_type": "markdown",
   "metadata": {},
   "source": [
    "Bedrooms\n"
   ]
  },
  {
   "cell_type": "code",
   "execution_count": 26,
   "metadata": {},
   "outputs": [
    {
     "data": {
      "text/plain": [
       "'3 Beds'"
      ]
     },
     "execution_count": 26,
     "metadata": {},
     "output_type": "execute_result"
    }
   ],
   "source": [
    "soup.find('li',{'data-testid':'bed'}).get_text()"
   ]
  },
  {
   "cell_type": "markdown",
   "metadata": {},
   "source": [
    "Bathrooms"
   ]
  },
  {
   "cell_type": "code",
   "execution_count": 27,
   "metadata": {},
   "outputs": [
    {
     "data": {
      "text/plain": [
       "'3 Baths'"
      ]
     },
     "execution_count": 27,
     "metadata": {},
     "output_type": "execute_result"
    }
   ],
   "source": [
    "soup.find('li',{'data-testid':'bath'}).get_text()"
   ]
  },
  {
   "cell_type": "markdown",
   "metadata": {},
   "source": [
    "Sqfts"
   ]
  },
  {
   "cell_type": "code",
   "execution_count": 29,
   "metadata": {},
   "outputs": [
    {
     "data": {
      "text/plain": [
       "'1,331 sqft'"
      ]
     },
     "execution_count": 29,
     "metadata": {},
     "output_type": "execute_result"
    }
   ],
   "source": [
    "soup.find('li',{'data-testid':'floor'}).get_text()"
   ]
  },
  {
   "cell_type": "markdown",
   "metadata": {},
   "source": [
    "Year Build"
   ]
  },
  {
   "cell_type": "code",
   "execution_count": 31,
   "metadata": {},
   "outputs": [
    {
     "data": {
      "text/plain": [
       "'1958'"
      ]
     },
     "execution_count": 31,
     "metadata": {},
     "output_type": "execute_result"
    }
   ],
   "source": [
    "soup.find('div',string=\"Year Built\").findNext('div').get_text()"
   ]
  },
  {
   "cell_type": "markdown",
   "metadata": {},
   "source": [
    "Parking"
   ]
  },
  {
   "cell_type": "code",
   "execution_count": 32,
   "metadata": {},
   "outputs": [
    {
     "data": {
      "text/plain": [
       "'2 Car Garage'"
      ]
     },
     "execution_count": 32,
     "metadata": {},
     "output_type": "execute_result"
    }
   ],
   "source": [
    "soup.find('div',string=\"Parking\").findNext('div').get_text()"
   ]
  },
  {
   "cell_type": "markdown",
   "metadata": {},
   "source": [
    "Price"
   ]
  },
  {
   "cell_type": "code",
   "execution_count": 36,
   "metadata": {},
   "outputs": [
    {
     "data": {
      "text/plain": [
       "'$859,000'"
      ]
     },
     "execution_count": 36,
     "metadata": {},
     "output_type": "execute_result"
    }
   ],
   "source": [
    "soup.find('h3',{'data-testid':'on-market-price-details'}).get_text()"
   ]
  },
  {
   "cell_type": "markdown",
   "metadata": {},
   "source": [
    "### Append all Results in List with List Comprehension"
   ]
  },
  {
   "cell_type": "code",
   "execution_count": 2,
   "metadata": {},
   "outputs": [
    {
     "ename": "NameError",
     "evalue": "name 'url_joined' is not defined",
     "output_type": "error",
     "traceback": [
      "\u001b[1;31m---------------------------------------------------------------------------\u001b[0m",
      "\u001b[1;31mNameError\u001b[0m                                 Traceback (most recent call last)",
      "\u001b[1;32m<ipython-input-2-3a6eb57c91c6>\u001b[0m in \u001b[0;36m<module>\u001b[1;34m\u001b[0m\n\u001b[0;32m      7\u001b[0m \u001b[0mprices\u001b[0m \u001b[1;33m=\u001b[0m \u001b[1;33m[\u001b[0m\u001b[1;33m]\u001b[0m\u001b[1;33m\u001b[0m\u001b[1;33m\u001b[0m\u001b[0m\n\u001b[0;32m      8\u001b[0m \u001b[1;33m\u001b[0m\u001b[0m\n\u001b[1;32m----> 9\u001b[1;33m \u001b[1;32mfor\u001b[0m \u001b[0mlink\u001b[0m \u001b[1;32min\u001b[0m \u001b[0murl_joined\u001b[0m\u001b[1;33m:\u001b[0m\u001b[1;33m\u001b[0m\u001b[1;33m\u001b[0m\u001b[0m\n\u001b[0m\u001b[0;32m     10\u001b[0m     \u001b[0mresponse\u001b[0m \u001b[1;33m=\u001b[0m \u001b[0mrequests\u001b[0m\u001b[1;33m.\u001b[0m\u001b[0mget\u001b[0m\u001b[1;33m(\u001b[0m\u001b[0mlink\u001b[0m\u001b[1;33m)\u001b[0m\u001b[1;33m\u001b[0m\u001b[1;33m\u001b[0m\u001b[0m\n\u001b[0;32m     11\u001b[0m \u001b[1;33m\u001b[0m\u001b[0m\n",
      "\u001b[1;31mNameError\u001b[0m: name 'url_joined' is not defined"
     ]
    }
   ],
   "source": [
    "address = []\n",
    "bedrooms = []\n",
    "bathrooms = []\n",
    "area = []\n",
    "year_build = []\n",
    "parking = []\n",
    "prices = []\n",
    "\n",
    "for link in url_joined:\n",
    "    response = requests.get(link)\n",
    "    \n",
    "    soup = BeautifulSoup(response.content, 'html.parser')\n",
    "    \n",
    "    \n",
    "    #address\n",
    "    try:\n",
    "        address.append(soup.find('span',{'data-testid':'home-details-summary-headline'}).get_text())\n",
    "    except:\n",
    "        address.append('')\n",
    "        \n",
    "    #bedrooms\n",
    "    try:\n",
    "        bedrooms.append(soup.find('li',{'data-testid':'bed'}).get_text())\n",
    "    except:\n",
    "        bedrooms.append('')\n",
    "        \n",
    "    #bathrooms\n",
    "    try:\n",
    "        bathrooms.append(soup.find('li',{'data-testid':'bath'}).get_text())\n",
    "    except:\n",
    "        bathrooms.append('')\n",
    "        \n",
    "    #area\n",
    "    try:\n",
    "        area.append(soup.find('li',{'data-testid':'floor'}).get_text())\n",
    "    except:\n",
    "        area.append('')\n",
    "        \n",
    "    #year build\n",
    "    try:\n",
    "        year_build.append(soup.find('div',string=\"Year Built\").findNext('div').get_text())\n",
    "    except:\n",
    "        year_build.append('')\n",
    "    \n",
    "    #parking\n",
    "    try:\n",
    "        parking.append(soup.find('div',string=\"Parking\").findNext('div').get_text())\n",
    "    except:\n",
    "        parking.append('')\n",
    "\n",
    "    #prices\n",
    "    try:\n",
    "        prices.append(soup.find('h3',{'data-testid':'on-market-price-details'}).get_text())\n",
    "    except:\n",
    "        prices.append('')"
   ]
  },
  {
   "cell_type": "code",
   "execution_count": 44,
   "metadata": {},
   "outputs": [],
   "source": [
    "real_estate = {'Address':address, \n",
    "               'Bedrooms':bedrooms, \n",
    "               'Bathrooms':bathrooms,\n",
    "               'Area':area,\n",
    "               'Year Build':year_build,\n",
    "               'Parking':parking,\n",
    "               'Price':prices \n",
    "              }"
   ]
  },
  {
   "cell_type": "code",
   "execution_count": null,
   "metadata": {},
   "outputs": [],
   "source": []
  },
  {
   "cell_type": "markdown",
   "metadata": {},
   "source": [
    "### Create Pandas DataFrame"
   ]
  },
  {
   "cell_type": "code",
   "execution_count": 47,
   "metadata": {},
   "outputs": [],
   "source": [
    "real_estate = pd.DataFrame(real_estate)"
   ]
  },
  {
   "cell_type": "code",
   "execution_count": null,
   "metadata": {},
   "outputs": [],
   "source": []
  },
  {
   "cell_type": "markdown",
   "metadata": {},
   "source": [
    "### Multiple Pages - San Diego"
   ]
  },
  {
   "cell_type": "code",
   "execution_count": 4,
   "metadata": {},
   "outputs": [],
   "source": [
    "# empty lists\n",
    "\n",
    "address = []\n",
    "bedrooms = []\n",
    "bathrooms = []\n",
    "area = []\n",
    "year_build = []\n",
    "parking = []\n",
    "prices = []\n",
    "\n",
    "# url_part_1 \n",
    "url_part_1 = 'https://www.trulia.com'\n",
    "\n",
    "for i in range(1,26):\n",
    "    \n",
    "    #website\n",
    "    website: 'https://www.trulia.com/CA/San_Diego/'+ str(i) +'_p/'\n",
    "    \n",
    "    #request\n",
    "    response = requests.get('https://www.trulia.com/CA/San_Diego/'+ str(i) +'_p/')\n",
    "\n",
    "    #soup object\n",
    "    soup= BeautifulSoup(response.content, 'html.parser')\n",
    "    \n",
    "    #result\n",
    "    results = soup.find_all('li', {'class':'SearchResultsList__WideCell-b7y9ki-2'})\n",
    "    results_update=[]\n",
    "    for r in results:\n",
    "        if r.has_attr('data-testid'):\n",
    "            results_update.append(r)\n",
    "    \n",
    "    # relative url\n",
    "    relative_url = []\n",
    "\n",
    "    for item in results_update:\n",
    "        for link in item.find_all('div',{'data-testid':'property-card-details'}):\n",
    "            relative_url.append(link.find('a').get('href'))\n",
    "    \n",
    "    # create absolute url\n",
    "    \n",
    "    url_joined = []\n",
    "    \n",
    "    for link_2 in relative_url:\n",
    "        url_joined.append(urllib.parse.urljoin(url_part_1, link_2))\n",
    "    \n",
    "    #loop through all joined links\n",
    "    \n",
    "    for link in url_joined:\n",
    "        response = requests.get(link)\n",
    "\n",
    "        soup = BeautifulSoup(response.content, 'html.parser')\n",
    "\n",
    "\n",
    "        #address\n",
    "        try:\n",
    "            address.append(soup.find('span',{'data-testid':'home-details-summary-headline'}).get_text())\n",
    "        except:\n",
    "            address.append('')\n",
    "\n",
    "        #bedrooms\n",
    "        try:\n",
    "            bedrooms.append(soup.find('li',{'data-testid':'bed'}).get_text())\n",
    "        except:\n",
    "            bedrooms.append('')\n",
    "\n",
    "        #bathrooms\n",
    "        try:\n",
    "            bathrooms.append(soup.find('li',{'data-testid':'bath'}).get_text())\n",
    "        except:\n",
    "            bathrooms.append('')\n",
    "\n",
    "        #area\n",
    "        try:\n",
    "            area.append(soup.find('li',{'data-testid':'floor'}).get_text())\n",
    "        except:\n",
    "            area.append('')\n",
    "\n",
    "        #year build\n",
    "        try:\n",
    "            year_build.append(soup.find('div',string=\"Year Built\").findNext('div').get_text())\n",
    "        except:\n",
    "            year_build.append('')\n",
    "\n",
    "        #parking\n",
    "        try:\n",
    "            parking.append(soup.find('div',string=\"Parking\").findNext('div').get_text())\n",
    "        except:\n",
    "            parking.append('')\n",
    "\n",
    "        #prices\n",
    "        try:\n",
    "            prices.append(soup.find('h3',{'data-testid':'on-market-price-details'}).get_text())\n",
    "        except:\n",
    "            prices.append('')"
   ]
  },
  {
   "cell_type": "code",
   "execution_count": 5,
   "metadata": {},
   "outputs": [],
   "source": [
    "real_estate_final = {'Address':address, \n",
    "               'Bedrooms':bedrooms, \n",
    "               'Bathrooms':bathrooms,\n",
    "               'Area':area,\n",
    "               'Year Build':year_build,\n",
    "               'Parking':parking,\n",
    "               'Price':prices,\n",
    "                     \n",
    "              }"
   ]
  },
  {
   "cell_type": "code",
   "execution_count": 6,
   "metadata": {},
   "outputs": [],
   "source": [
    "real_estate_final = pd.DataFrame(real_estate_final)\n",
    "real_estate_final['Location'] = 'San Diego'\n"
   ]
  },
  {
   "cell_type": "code",
   "execution_count": null,
   "metadata": {},
   "outputs": [],
   "source": []
  },
  {
   "cell_type": "code",
   "execution_count": 8,
   "metadata": {},
   "outputs": [],
   "source": [
    "real_estate_final.to_excel('real_estate_san_diego.xlsx', index= False)"
   ]
  },
  {
   "cell_type": "code",
   "execution_count": null,
   "metadata": {},
   "outputs": [],
   "source": []
  }
 ],
 "metadata": {
  "kernelspec": {
   "display_name": "Python 3",
   "language": "python",
   "name": "python3"
  },
  "language_info": {
   "codemirror_mode": {
    "name": "ipython",
    "version": 3
   },
   "file_extension": ".py",
   "mimetype": "text/x-python",
   "name": "python",
   "nbconvert_exporter": "python",
   "pygments_lexer": "ipython3",
   "version": "3.9.0"
  }
 },
 "nbformat": 4,
 "nbformat_minor": 4
}
